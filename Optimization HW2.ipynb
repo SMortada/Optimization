{
 "cells": [
  {
   "cell_type": "markdown",
   "metadata": {},
   "source": [
    "\n",
    "# Homework 2: Portfolio Optimization\n",
    "\n"
   ]
  },
  {
   "cell_type": "markdown",
   "metadata": {},
   "source": [
    "## Question 1"
   ]
  },
  {
   "cell_type": "code",
   "execution_count": 8,
   "metadata": {},
   "outputs": [],
   "source": [
    "# Import gurobi and numpy\n",
    "from gurobipy import *\n",
    "import numpy as np\n",
    "from numpy import genfromtxt\n",
    "import csv\n",
    "\n",
    "## Get index of 4 tickers\n",
    "tick4 = [\"MSFT\",\"GS\",\"PG\",\"SCHP\"];\n",
    "\n",
    "# Get variable names\n",
    "with open('Prices.csv') as csvFile:\n",
    "    reader = csv.reader(csvFile)\n",
    "    tickers = next(reader) ## stores the tickets of all 390 stocks\n",
    "\n",
    "tickind =[];\n",
    "for t in tick4:\n",
    "    tickind.append(tickers.index(t)) ## collect index that corresponds to each ticker\n",
    "\n",
    "# Load data\n",
    "prices = genfromtxt('Prices.csv', delimiter=',',skip_header = 1)\n",
    "\n",
    "# get dimensions of data\n",
    "d = prices.shape[0]\n",
    "n = prices.shape[1]\n",
    "\n",
    "# calculate monthly returns of each stock\n",
    "returns = np.zeros((d-1,n))\n",
    "for stock in range(n):\n",
    "    for month in range(d-1):\n",
    "        returns[month,stock] = prices[month+1,stock]/prices[month,stock]-1\n",
    "        \n",
    "# Store average return (parameter r_i in portfolio optimization model)       \n",
    "#avg_return = np.zeros(n)\n",
    "avg_return = np.mean(returns,axis=0)\n",
    "\n",
    "# Store covariance matrix (parameter C_ij in portfolio optimization model)\n",
    "C = np.zeros((n,n))\n",
    "C = np.cov(np.transpose(returns))\n"
   ]
  },
  {
   "cell_type": "code",
   "execution_count": 9,
   "metadata": {},
   "outputs": [
    {
     "data": {
      "text/plain": [
       "numpy.ndarray"
      ]
     },
     "execution_count": 9,
     "metadata": {},
     "output_type": "execute_result"
    }
   ],
   "source": [
    "type(avg_return)"
   ]
  },
  {
   "cell_type": "markdown",
   "metadata": {},
   "source": [
    "### Model 1"
   ]
  },
  {
   "cell_type": "code",
   "execution_count": 19,
   "metadata": {},
   "outputs": [],
   "source": [
    "mod = Model()\n",
    "n = 4\n",
    "\n",
    "## ADDING DECISION VARIABLE \n",
    "x = {}\n",
    "for i in tickind:\n",
    "    x[i] = mod.addVar(lb = 0, vtype = GRB.CONTINUOUS)\n",
    "\n",
    "## ADDING CONSTRAINTS\n",
    "\n",
    "mod.addConstr(sum(x[i] for i in tickind) == 1) ## Sum of weights = 1\n",
    "\n",
    "mod.addConstr(sum(avg_return[i]*x[i] for i in tickind) >= 0.005) ## Portfolio return >= 0.5\n",
    "\n",
    "## ADDING OBJECTIVE \n",
    "\n",
    "mod.setObjective(sum(sum(x[i]*x[j] * C[i,j] for j in tickind) for i in tickind),GRB.MINIMIZE) ## Minimize Variance of Portfolio to minimize risk\n"
   ]
  },
  {
   "cell_type": "code",
   "execution_count": 20,
   "metadata": {},
   "outputs": [
    {
     "name": "stdout",
     "output_type": "stream",
     "text": [
      "Gurobi Optimizer version 9.1.0 build v9.1.0rc0 (mac64)\n",
      "Thread count: 8 physical cores, 16 logical processors, using up to 16 threads\n",
      "Optimize a model with 2 rows, 4 columns and 8 nonzeros\n",
      "Model fingerprint: 0xcd87a4af\n",
      "Model has 10 quadratic objective terms\n",
      "Coefficient statistics:\n",
      "  Matrix range     [2e-04, 1e+00]\n",
      "  Objective range  [0e+00, 0e+00]\n",
      "  QObjective range [5e-05, 7e-03]\n",
      "  Bounds range     [0e+00, 0e+00]\n",
      "  RHS range        [5e-03, 1e+00]\n",
      "Presolve time: 0.00s\n",
      "Presolved: 2 rows, 4 columns, 8 nonzeros\n",
      "Presolved model has 10 quadratic objective terms\n",
      "Ordering time: 0.00s\n",
      "\n",
      "Barrier statistics:\n",
      " Free vars  : 3\n",
      " AA' NZ     : 1.000e+01\n",
      " Factor NZ  : 1.500e+01\n",
      " Factor Ops : 5.500e+01 (less than 1 second per iteration)\n",
      " Threads    : 1\n",
      "\n",
      "                  Objective                Residual\n",
      "Iter       Primal          Dual         Primal    Dual     Compl     Time\n",
      "   0   1.87864836e+05 -1.87864836e+05  3.50e+03 1.91e-07  1.00e+06     0s\n",
      "   1   5.03195868e+03 -5.16248579e+03  2.59e+02 1.41e-08  7.60e+04     0s\n",
      "   2   8.65509708e-03 -1.63980611e+02  5.37e-01 2.93e-11  1.91e+02     0s\n",
      "   3   9.86310203e-04 -1.11685777e+02  5.37e-07 3.01e-17  2.23e+01     0s\n",
      "   4   9.86278716e-04 -1.12363063e-01  8.01e-12 0.00e+00  2.27e-02     0s\n",
      "   5   9.62254421e-04 -7.39765491e-04  8.51e-14 0.00e+00  3.40e-04     0s\n",
      "   6   2.39090553e-04 -5.58090861e-04  2.78e-17 1.73e-18  1.59e-04     0s\n",
      "   7   1.89326156e-04  1.66699694e-04  5.55e-17 1.73e-18  4.53e-06     0s\n",
      "   8   1.77828223e-04  1.76221352e-04  5.55e-17 4.30e-19  3.21e-07     0s\n",
      "   9   1.77494541e-04  1.77442512e-04  5.45e-16 1.73e-18  1.04e-08     0s\n",
      "  10   1.77493265e-04  1.77493214e-04  2.41e-15 1.73e-18  1.03e-11     0s\n",
      "\n",
      "Barrier solved model in 10 iterations and 0.02 seconds\n",
      "Optimal objective 1.77493265e-04\n",
      "\n"
     ]
    }
   ],
   "source": [
    "mod.update()\n",
    "mod.optimize()"
   ]
  },
  {
   "cell_type": "code",
   "execution_count": 37,
   "metadata": {
    "scrolled": true
   },
   "outputs": [
    {
     "name": "stdout",
     "output_type": "stream",
     "text": [
      "Optimal Risk Value: 0.0001774932651657724 \n",
      "\n",
      "Model Solver Time: 0.02 seconds \n",
      "\n",
      "Weights of stocks:\n",
      "   MSFT: 23.711749137102103 %\n",
      "    GS: 2.585983533068454 %\n",
      "    PG: 1.5749710132180152e-07 %\n",
      "    SCHP: 73.70226717233427 %\n",
      "\n"
     ]
    }
   ],
   "source": [
    "   \n",
    "stocks = []\n",
    "for v in mod.getVars():\n",
    "    stocks.append(v.x)\n",
    "print('Optimal Risk Value:',mod.ObjVal,'\\n')\n",
    "print('Model Solver Time: 0.02 seconds','\\n')\n",
    "print('Weights of stocks:')\n",
    "print('   MSFT:',stocks[0]*100,'%\\n','   GS:',stocks[1]*100,'%\\n','   PG:',stocks[2]*100,'%\\n','   SCHP:',stocks[3]*100,'%\\n')"
   ]
  },
  {
   "cell_type": "markdown",
   "metadata": {},
   "source": [
    "### Model 2"
   ]
  },
  {
   "cell_type": "code",
   "execution_count": 17,
   "metadata": {},
   "outputs": [],
   "source": [
    "\n",
    "mod2 = Model()\n",
    "n = 390\n",
    "## ADDING DECISION VARIABLE \n",
    "\n",
    "x = mod2.addVars(390)\n",
    "\n",
    "## ADDING CONSTRAINTS\n",
    "for i in range(n):\n",
    "    mod2.addConstr(x[i]>=0)\n",
    "\n",
    "mod2.addConstr(sum(x[i] for i in range(n)) == 1) ## Sum of weights = 100%\n",
    "\n",
    "mod2.addConstr(sum(avg_return[i]*x[i] for i in range(n)) >= 0.005) ## Portfolio return >= 0.5\n",
    "\n",
    "## ADDING OBJECTIVE \n",
    "\n",
    "mod2.setObjective(sum(sum(x[i]*x[j] * C[i,j] for j in range(n)) for i in range(n)),GRB.MINIMIZE) ## Minimize Variance of Portfolio to minimize risk\n",
    "\n"
   ]
  },
  {
   "cell_type": "code",
   "execution_count": 18,
   "metadata": {},
   "outputs": [
    {
     "name": "stdout",
     "output_type": "stream",
     "text": [
      "Gurobi Optimizer version 9.1.0 build v9.1.0rc0 (mac64)\n",
      "Thread count: 8 physical cores, 16 logical processors, using up to 16 threads\n",
      "Optimize a model with 392 rows, 390 columns and 1170 nonzeros\n",
      "Model fingerprint: 0x117c1e4d\n",
      "Model has 76245 quadratic objective terms\n",
      "Coefficient statistics:\n",
      "  Matrix range     [1e-06, 1e+00]\n",
      "  Objective range  [0e+00, 0e+00]\n",
      "  QObjective range [2e-07, 8e-02]\n",
      "  Bounds range     [0e+00, 0e+00]\n",
      "  RHS range        [5e-03, 1e+00]\n",
      "Presolve removed 390 rows and 0 columns\n",
      "Presolve time: 0.01s\n",
      "Presolved: 2 rows, 390 columns, 780 nonzeros\n",
      "Presolved model has 76245 quadratic objective terms\n",
      "Ordering time: 0.00s\n",
      "\n",
      "Barrier statistics:\n",
      " Free vars  : 59\n",
      " AA' NZ     : 1.830e+03\n",
      " Factor NZ  : 1.891e+03\n",
      " Factor Ops : 7.753e+04 (less than 1 second per iteration)\n",
      " Threads    : 8\n",
      "\n",
      "                  Objective                Residual\n",
      "Iter       Primal          Dual         Primal    Dual     Compl     Time\n",
      "   0   2.89821559e-13 -2.89821559e-13  3.90e+05 3.22e-07  1.00e+06     0s\n",
      "   1   2.43039969e+03 -3.41875696e+03  1.04e+04 8.59e-09  2.67e+04     0s\n",
      "   2   3.54479277e-03 -1.01970099e+03  9.49e+00 7.84e-12  2.70e+01     0s\n",
      "   3   9.56987699e-04 -8.30932860e+02  9.49e-06 1.04e-17  2.13e+00     0s\n",
      "   4   9.56984024e-04 -8.32258791e-01  2.62e-11 9.01e-13  2.13e-03     0s\n",
      "   5   9.54080582e-04 -2.12856913e-03  6.71e-14 2.85e-15  7.88e-06     0s\n",
      "   6   5.35418588e-04 -5.84990492e-04  6.44e-15 2.65e-16  2.87e-06     0s\n",
      "   7   2.01507881e-04 -3.89216325e-04  1.33e-15 1.73e-18  1.51e-06     0s\n",
      "   8   1.34606944e-04 -1.49691131e-04  3.33e-16 9.76e-19  7.27e-07     0s\n",
      "   9   7.89595224e-05 -1.75108231e-05  1.78e-15 8.67e-19  2.47e-07     0s\n",
      "  10   5.10158056e-05  1.43645079e-05  2.22e-16 4.34e-19  9.37e-08     0s\n",
      "  11   3.92512246e-05  2.40840857e-05  4.44e-16 4.34e-19  3.88e-08     0s\n",
      "  12   3.31521270e-05  2.75338355e-05  4.44e-16 2.17e-19  1.44e-08     0s\n",
      "  13   2.98855042e-05  2.86283978e-05  8.66e-15 2.17e-19  3.22e-09     0s\n",
      "  14   2.88057421e-05  2.87835444e-05  5.33e-15 4.34e-19  5.68e-11     0s\n",
      "  15   2.87857564e-05  2.87849288e-05  9.77e-15 4.34e-19  2.12e-12     0s\n",
      "\n",
      "Barrier solved model in 15 iterations and 0.05 seconds\n",
      "Optimal objective 2.87857564e-05\n",
      "\n"
     ]
    }
   ],
   "source": [
    "mod2.update()\n",
    "mod2.optimize()"
   ]
  },
  {
   "cell_type": "code",
   "execution_count": 38,
   "metadata": {},
   "outputs": [
    {
     "name": "stdout",
     "output_type": "stream",
     "text": [
      "Optimal Risk Value: 2.8785756399295463e-05 \n",
      "\n",
      "Model Solver Time: 0.05 seconds \n",
      "\n"
     ]
    }
   ],
   "source": [
    "print('Optimal Risk Value:',mod2.ObjVal,'\\n')\n",
    "print('Model Solver Time: 0.05 seconds','\\n')"
   ]
  },
  {
   "cell_type": "markdown",
   "metadata": {},
   "source": [
    "### Model 3"
   ]
  },
  {
   "cell_type": "code",
   "execution_count": 104,
   "metadata": {},
   "outputs": [],
   "source": [
    "mod3 = Model()\n",
    "n = 390\n",
    "\n",
    "## ADDING DECISION VARIABLE \n",
    "\n",
    "x = mod3.addVars(390)\n",
    "y = mod3.addVars(390,vtype = GRB.BINARY)\n",
    "\n",
    "\n",
    "## ADDING CONSTRAINTS\n",
    "for i in range(n):\n",
    "    mod3.addConstr(x[i]>=0)\n",
    "    mod3.addConstr(y[i]>=x[i])\n",
    "    \n",
    "mod3.addConstr(sum(x[i]*y[i] for i in range(n)) == 1) ## Sum of weights = 1\n",
    "mod3.addConstr(sum(y[i] for i in range(n)) <= 4)\n",
    "mod3.addConstr(sum(avg_return[i]*x[i] for i in range(n)) >= 0.005) ## Portfolio return >= 0.5%\n",
    "\n",
    "\n",
    "\n",
    "## ADDING OBJECTIVE \n",
    "\n",
    "mod3.setObjective(sum(sum(x[i]*x[j]*C[i,j] for j in range(n)) for i in range(n)),GRB.MINIMIZE) ## Minimize Variance of Portfolio to minimize risk\n"
   ]
  },
  {
   "cell_type": "code",
   "execution_count": 105,
   "metadata": {
    "scrolled": true
   },
   "outputs": [
    {
     "name": "stdout",
     "output_type": "stream",
     "text": [
      "Gurobi Optimizer version 9.1.0 build v9.1.0rc0 (mac64)\n",
      "Thread count: 8 physical cores, 16 logical processors, using up to 16 threads\n",
      "Optimize a model with 782 rows, 780 columns and 1950 nonzeros\n",
      "Model fingerprint: 0x4cd4185c\n",
      "Model has 76245 quadratic objective terms\n",
      "Model has 1 quadratic constraint\n",
      "Variable types: 390 continuous, 390 integer (390 binary)\n",
      "Coefficient statistics:\n",
      "  Matrix range     [1e-06, 1e+00]\n",
      "  QMatrix range    [1e+00, 1e+00]\n",
      "  Objective range  [0e+00, 0e+00]\n",
      "  QObjective range [2e-07, 8e-02]\n",
      "  Bounds range     [1e+00, 1e+00]\n",
      "  RHS range        [5e-03, 4e+00]\n",
      "  QRHS range       [1e+00, 1e+00]\n",
      "Presolve removed 390 rows and 0 columns\n",
      "Presolve time: 0.01s\n",
      "Presolved: 1563 rows, 1170 columns, 4680 nonzeros\n",
      "Presolved model has 76245 quadratic objective terms\n",
      "Variable types: 780 continuous, 390 integer (390 binary)\n",
      "Found heuristic solution: objective 0.0009032\n",
      "\n",
      "Root relaxation: objective 2.878501e-05, 9116 iterations, 0.57 seconds\n",
      "\n",
      "    Nodes    |    Current Node    |     Objective Bounds      |     Work\n",
      " Expl Unexpl |  Obj  Depth IntInf | Incumbent    BestBd   Gap | It/Node Time\n",
      "\n",
      "H    0     0                       0.0001175   -6.15995      -     -    1s\n",
      "H    0     0                       0.0000744   -6.15995      -     -    1s\n",
      "H    0     0                       0.0000723   -6.15995      -     -    1s\n",
      "     0     0    0.00003    0   22    0.00007    0.00003  59.2%     -    1s\n",
      "     0     0    0.00003    0   23    0.00007    0.00003  59.2%     -    1s\n",
      "     0     0    0.00003    0   24    0.00007    0.00003  59.0%     -    1s\n",
      "H    0     0                       0.0000715    0.00003  58.6%     -    1s\n",
      "     0     2    0.00003    0   24    0.00007    0.00003  58.6%     -    1s\n",
      "H   33    39                       0.0000707    0.00003  58.1%   9.1    2s\n",
      "H   80    70                       0.0000676    0.00003  56.2%  58.1    2s\n",
      "H  158   106                       0.0000675    0.00003  56.1%   151    2s\n",
      "   818   479     cutoff   10         0.00007    0.00003  55.4%   122    5s\n",
      "  7523  3535    0.00006   25   18    0.00007    0.00004  44.4%  56.4   10s\n",
      " 23704 11551    0.00007   24   24    0.00007    0.00005  31.1%  47.5   15s\n",
      " 38851 13716     cutoff   66         0.00007    0.00005  19.4%  45.5   20s\n",
      " 48161 13174    0.00006   55   18    0.00007    0.00006  13.8%  45.0   25s\n",
      " 57328 11653    0.00006   53   22    0.00007    0.00006  10.8%  46.0   30s\n",
      " 71653  8081     cutoff   75         0.00007    0.00006  6.25%  44.0   35s\n",
      " 84980  2186     cutoff   46         0.00007    0.00007  3.35%  42.1   40s\n",
      "\n",
      "Cutting planes:\n",
      "  Cover: 1\n",
      "  MIR: 19\n",
      "  Flow cover: 10\n",
      "\n",
      "Explored 90481 nodes (3698456 simplex iterations) in 41.68 seconds\n",
      "Thread count was 16 (of 16 available processors)\n",
      "\n",
      "Solution count 8: 6.75347e-05 6.75857e-05 7.06604e-05 ... 0.000903152\n",
      "\n",
      "Optimal solution found (tolerance 1.00e-04)\n",
      "Best objective 6.753470760728e-05, best bound 6.753470760728e-05, gap 0.0000%\n"
     ]
    }
   ],
   "source": [
    "mod3.update()\n",
    "mod3.optimize()"
   ]
  },
  {
   "cell_type": "code",
   "execution_count": 97,
   "metadata": {
    "scrolled": true
   },
   "outputs": [
    {
     "name": "stdout",
     "output_type": "stream",
     "text": [
      "Optimal Risk Value: 6.753470760728254e-05 \n",
      "\n",
      "Model Solver Time: 40.78 seconds \n",
      "\n",
      "Weights of stocks:\n",
      "CME : 12.641141929490557 %\n",
      "LLY : 7.547619035437594 %\n",
      "NVDA : 4.375370672843286 %\n",
      "BND : 75.43586836222858 %\n"
     ]
    }
   ],
   "source": [
    "stocks = []\n",
    "for v in mod3.getVars():\n",
    "    stocks.append(v.x)\n",
    "print('Optimal Risk Value:',mod3.ObjVal,'\\n')\n",
    "print('Model Solver Time: 41.68 seconds','\\n')\n",
    "print('Weights of stocks:')\n",
    "for x in stocks: \n",
    "    if x != 0 and x!= 1:\n",
    "        print(tickers[stocks.index(x)],':',x*100,'%')\n",
    "        "
   ]
  },
  {
   "cell_type": "markdown",
   "metadata": {},
   "source": [
    "__________"
   ]
  },
  {
   "cell_type": "markdown",
   "metadata": {},
   "source": [
    "## Question 2"
   ]
  },
  {
   "cell_type": "markdown",
   "metadata": {},
   "source": [
    " a) The optimal risk value in model 2 is less than that of model 1. This is because we have more constraints in model 1. (Only allowed to choose 4 known stocks)\n",
    " \n",
    " b) The optimal risk value in model 2 is less than that of moddel 3. This is because we have more constraints in model 3. ( Only allowed to choose 4 unknown stocks) "
   ]
  },
  {
   "cell_type": "markdown",
   "metadata": {},
   "source": [
    "_______"
   ]
  },
  {
   "cell_type": "markdown",
   "metadata": {},
   "source": [
    "## Question 3"
   ]
  },
  {
   "cell_type": "markdown",
   "metadata": {},
   "source": [
    "### Part A: "
   ]
  },
  {
   "cell_type": "code",
   "execution_count": 99,
   "metadata": {},
   "outputs": [
    {
     "name": "stdout",
     "output_type": "stream",
     "text": [
      "Changed value of parameter TimeLimit to 30.0\n",
      "   Prev: inf  Min: 0.0  Max: inf  Default: inf\n",
      "Gurobi Optimizer version 9.1.0 build v9.1.0rc0 (mac64)\n",
      "Thread count: 8 physical cores, 16 logical processors, using up to 16 threads\n",
      "Optimize a model with 782 rows, 780 columns and 1950 nonzeros\n",
      "Model fingerprint: 0x4cd4185c\n",
      "Model has 76245 quadratic objective terms\n",
      "Model has 1 quadratic constraint\n",
      "Variable types: 390 continuous, 390 integer (390 binary)\n",
      "Coefficient statistics:\n",
      "  Matrix range     [1e-06, 1e+00]\n",
      "  QMatrix range    [1e+00, 1e+00]\n",
      "  Objective range  [0e+00, 0e+00]\n",
      "  QObjective range [2e-07, 8e-02]\n",
      "  Bounds range     [1e+00, 1e+00]\n",
      "  RHS range        [5e-03, 4e+00]\n",
      "  QRHS range       [1e+00, 1e+00]\n",
      "Presolve removed 390 rows and 0 columns\n",
      "Presolve time: 0.02s\n",
      "Presolved: 1563 rows, 1170 columns, 4680 nonzeros\n",
      "Presolved model has 76245 quadratic objective terms\n",
      "Variable types: 780 continuous, 390 integer (390 binary)\n",
      "Found heuristic solution: objective 0.0009032\n",
      "\n",
      "Root relaxation: objective 2.878501e-05, 9116 iterations, 0.47 seconds\n",
      "\n",
      "    Nodes    |    Current Node    |     Objective Bounds      |     Work\n",
      " Expl Unexpl |  Obj  Depth IntInf | Incumbent    BestBd   Gap | It/Node Time\n",
      "\n",
      "H    0     0                       0.0001175   -6.15995      -     -    1s\n",
      "H    0     0                       0.0000744   -6.15995      -     -    1s\n",
      "H    0     0                       0.0000723   -6.15995      -     -    1s\n",
      "     0     0    0.00003    0   22    0.00007    0.00003  59.2%     -    1s\n",
      "     0     0    0.00003    0   23    0.00007    0.00003  59.2%     -    1s\n",
      "     0     0    0.00003    0   24    0.00007    0.00003  59.0%     -    1s\n",
      "H    0     0                       0.0000715    0.00003  58.6%     -    1s\n",
      "     0     2    0.00003    0   24    0.00007    0.00003  58.6%     -    1s\n",
      "H   33    39                       0.0000707    0.00003  58.1%   9.1    1s\n",
      "H   80    70                       0.0000676    0.00003  56.2%  58.1    2s\n",
      "H  158   106                       0.0000675    0.00003  56.1%   151    2s\n",
      "   893   518    0.00004   15   18    0.00007    0.00003  55.4%   118    5s\n",
      "  7523  3535    0.00006   25   18    0.00007    0.00004  44.4%  56.4   10s\n",
      " 23704 11551    0.00007   24   24    0.00007    0.00005  31.1%  47.5   15s\n",
      " 38851 13716     cutoff   66         0.00007    0.00005  19.4%  45.5   20s\n",
      " 49148 13076    0.00006   56   17    0.00007    0.00006  13.3%  45.3   25s\n",
      " 59239 11576    0.00006   55   23    0.00007    0.00006  10.0%  46.0   30s\n",
      "\n",
      "Cutting planes:\n",
      "  Cover: 1\n",
      "  MIR: 19\n",
      "  Flow cover: 9\n",
      "\n",
      "Explored 60021 nodes (2755271 simplex iterations) in 30.06 seconds\n",
      "Thread count was 16 (of 16 available processors)\n",
      "\n",
      "Solution count 8: 6.75347e-05 6.75857e-05 7.06604e-05 ... 0.000903152\n",
      "\n",
      "Time limit reached\n",
      "Best objective 6.753470760728e-05, best bound 6.078512891328e-05, gap 9.9942%\n"
     ]
    }
   ],
   "source": [
    "mod3.Params.TimeLimit = 30.0\n",
    "mod3.update()\n",
    "mod3.optimize()"
   ]
  },
  {
   "cell_type": "markdown",
   "metadata": {},
   "source": [
    "The value is almost the same as the one achieved in Q1.C"
   ]
  },
  {
   "cell_type": "code",
   "execution_count": 100,
   "metadata": {
    "scrolled": true
   },
   "outputs": [
    {
     "name": "stdout",
     "output_type": "stream",
     "text": [
      "Optimal value for Q1C: 6.753470760728254e-05\n",
      "Optimal value for Q3A: 6.078512891328e-05\n"
     ]
    }
   ],
   "source": [
    "print('Optimal value for Q1C: 6.753470760728254e-05')\n",
    "print('Optimal value for Q3A: 6.078512891328e-05')"
   ]
  },
  {
   "cell_type": "markdown",
   "metadata": {},
   "source": [
    "### Part B: "
   ]
  },
  {
   "cell_type": "code",
   "execution_count": 106,
   "metadata": {},
   "outputs": [
    {
     "name": "stdout",
     "output_type": "stream",
     "text": [
      "Changed value of parameter MIPGap to 0.1\n",
      "   Prev: 0.0001  Min: 0.0  Max: inf  Default: 0.0001\n",
      "Gurobi Optimizer version 9.1.0 build v9.1.0rc0 (mac64)\n",
      "Thread count: 8 physical cores, 16 logical processors, using up to 16 threads\n",
      "Optimize a model with 782 rows, 780 columns and 1950 nonzeros\n",
      "Model fingerprint: 0x4cd4185c\n",
      "Model has 76245 quadratic objective terms\n",
      "Model has 1 quadratic constraint\n",
      "Variable types: 390 continuous, 390 integer (390 binary)\n",
      "Coefficient statistics:\n",
      "  Matrix range     [1e-06, 1e+00]\n",
      "  QMatrix range    [1e+00, 1e+00]\n",
      "  Objective range  [0e+00, 0e+00]\n",
      "  QObjective range [2e-07, 8e-02]\n",
      "  Bounds range     [1e+00, 1e+00]\n",
      "  RHS range        [5e-03, 4e+00]\n",
      "  QRHS range       [1e+00, 1e+00]\n",
      "Presolved: 1563 rows, 1170 columns, 4680 nonzeros\n",
      "Presolved model has 76245 quadratic objective terms\n",
      "\n",
      "Continuing optimization...\n",
      "\n",
      "\n",
      "Cutting planes:\n",
      "  Cover: 1\n",
      "  MIR: 19\n",
      "  Flow cover: 10\n",
      "\n",
      "Explored 90481 nodes (3698456 simplex iterations) in 0.01 seconds\n",
      "Thread count was 16 (of 16 available processors)\n",
      "\n",
      "Solution count 8: 6.75347e-05 6.75857e-05 7.06604e-05 ... 0.000903152\n",
      "\n",
      "Optimal solution found (tolerance 1.00e-01)\n",
      "Best objective 6.753470760728e-05, best bound 6.753470760728e-05, gap 0.0000%\n"
     ]
    }
   ],
   "source": [
    "mod3.Params.MIPGap = 0.1\n",
    "mod3.update()\n",
    "mod3.optimize()"
   ]
  },
  {
   "cell_type": "markdown",
   "metadata": {},
   "source": [
    "The model was solved a lot faster than in Q1.C "
   ]
  },
  {
   "cell_type": "code",
   "execution_count": 107,
   "metadata": {
    "scrolled": true
   },
   "outputs": [
    {
     "name": "stdout",
     "output_type": "stream",
     "text": [
      "Q1C Solver Time: 40.78 seconds\n",
      "Q3B Solver Time: 0.01 seconds\n"
     ]
    }
   ],
   "source": [
    "print('Q1C Solver Time: 40.78 seconds')\n",
    "print('Q3B Solver Time: 0.01 seconds')"
   ]
  },
  {
   "cell_type": "markdown",
   "metadata": {},
   "source": [
    "It seems that modifying the gap in this case would be more effective than setting a time limit. "
   ]
  },
  {
   "cell_type": "markdown",
   "metadata": {},
   "source": [
    "___________"
   ]
  }
 ],
 "metadata": {
  "kernelspec": {
   "display_name": "Python 3",
   "language": "python",
   "name": "python3"
  },
  "language_info": {
   "codemirror_mode": {
    "name": "ipython",
    "version": 3
   },
   "file_extension": ".py",
   "mimetype": "text/x-python",
   "name": "python",
   "nbconvert_exporter": "python",
   "pygments_lexer": "ipython3",
   "version": "3.8.5"
  }
 },
 "nbformat": 4,
 "nbformat_minor": 2
}
