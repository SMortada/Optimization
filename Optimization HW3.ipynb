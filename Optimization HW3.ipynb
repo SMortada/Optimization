{
 "cells": [
  {
   "cell_type": "code",
   "execution_count": 1,
   "metadata": {},
   "outputs": [
    {
     "name": "stdout",
     "output_type": "stream",
     "text": [
      "Collecting selenium\n",
      "  Downloading selenium-3.141.0-py2.py3-none-any.whl (904 kB)\n",
      "\u001b[K     |████████████████████████████████| 904 kB 6.4 MB/s eta 0:00:01\n",
      "\u001b[?25hRequirement already satisfied: urllib3 in /opt/anaconda3/lib/python3.8/site-packages (from selenium) (1.25.10)\n",
      "Installing collected packages: selenium\n",
      "Successfully installed selenium-3.141.0\n",
      "Note: you may need to restart the kernel to use updated packages.\n"
     ]
    }
   ],
   "source": [
    "pip install selenium"
   ]
  },
  {
   "cell_type": "code",
   "execution_count": 2,
   "metadata": {},
   "outputs": [],
   "source": [
    "import numpy as np"
   ]
  },
  {
   "cell_type": "code",
   "execution_count": 3,
   "metadata": {},
   "outputs": [],
   "source": [
    "from gurobi import *"
   ]
  },
  {
   "cell_type": "code",
   "execution_count": 33,
   "metadata": {},
   "outputs": [],
   "source": [
    "# Import gurobi and numpy\n",
    "from gurobipy import *\n",
    "import numpy as np\n",
    "from numpy import genfromtxt\n",
    "import pandas as pd\n",
    "import csv\n",
    "\n",
    "\n",
    "# Get variable names\n",
    "with open('AirbnbTrain.csv') as csvFile:\n",
    "    reader = csv.reader(csvFile)\n",
    "    features = next(reader) ## stores all the listings \n",
    "\n",
    "# Load data\n",
    "listing_data = genfromtxt('AirbnbTrain.csv', delimiter=',',skip_header = 1)\n",
    "\n",
    "### FOR TESTING: \n",
    "# Load data\n",
    "testing_data = genfromtxt('AirbnbTest.csv', delimiter=',',skip_header = 1)\n",
    "X_test = testing_data[:,0:12]\n",
    "y_true = testing_data[:,[12]]\n",
    "# get dimensions of data\n",
    "d = listing_data.shape[0]\n",
    "n = listing_data.shape[1]\n",
    "t = testing_data.shape[0]"
   ]
  },
  {
   "cell_type": "markdown",
   "metadata": {},
   "source": [
    "### Model 1 "
   ]
  },
  {
   "cell_type": "code",
   "execution_count": 34,
   "metadata": {
    "scrolled": true
   },
   "outputs": [],
   "source": [
    "mod1 = Model()\n",
    "y = np.array(listing_data[:,12])\n",
    "x = np.array(listing_data[:,:12])\n",
    "\n",
    "## Adding Variables\n",
    "b = mod1.addVars(n)\n",
    "#w = mod1.addVars(n, vtype = GRB.BINARY)\n",
    "Error = mod1.addVars(d)\n",
    "\n",
    "## Adding Constraints \n",
    "for i in range(d):\n",
    "    mod1.addConstr(Error[i] >= y[i] - sum(b[j]*x[i][j] for j in range(n-1)))\n",
    "    mod1.addConstr(Error[i] >= -y[i] + sum(b[j]*x[i][j] for j in range(n-1)))  \n",
    "    \n",
    "## Setting Objective Function    \n",
    "mod1.setObjective((1/d)*sum(Error[i] for i in range(d)), GRB.MINIMIZE)"
   ]
  },
  {
   "cell_type": "code",
   "execution_count": 35,
   "metadata": {
    "scrolled": true
   },
   "outputs": [
    {
     "name": "stdout",
     "output_type": "stream",
     "text": [
      "Gurobi Optimizer version 9.1.0 build v9.1.0rc0 (mac64)\n",
      "Thread count: 8 physical cores, 16 logical processors, using up to 16 threads\n",
      "Optimize a model with 3400 rows, 1713 columns and 41372 nonzeros\n",
      "Model fingerprint: 0xfda29b00\n",
      "Coefficient statistics:\n",
      "  Matrix range     [5e-01, 5e+02]\n",
      "  Objective range  [6e-04, 6e-04]\n",
      "  Bounds range     [0e+00, 0e+00]\n",
      "  RHS range        [1e+01, 2e+03]\n",
      "\n",
      "Concurrent LP optimizer: primal simplex, dual simplex, and barrier\n",
      "Showing barrier log only...\n",
      "\n",
      "Presolve removed 0 rows and 1 columns\n",
      "Presolve time: 0.04s\n",
      "Presolved: 3400 rows, 1712 columns, 41372 nonzeros\n",
      "\n",
      "Ordering time: 0.00s\n",
      "\n",
      "Barrier statistics:\n",
      " Dense cols : 12\n",
      " AA' NZ     : 3.967e+04\n",
      " Factor NZ  : 4.315e+04 (roughly 2 MBytes of memory)\n",
      " Factor Ops : 5.492e+05 (less than 1 second per iteration)\n",
      " Threads    : 1\n",
      "\n",
      "                  Objective                Residual\n",
      "Iter       Primal          Dual         Primal    Dual     Compl     Time\n",
      "   0   2.12283752e+03  0.00000000e+00  1.36e+03 0.00e+00  2.67e+01     0s\n",
      "   1   1.62159385e+03  1.35335241e+00  0.00e+00 6.12e-04  2.66e+00     0s\n",
      "   2   1.58777590e+02  4.55019292e+00  0.00e+00 9.60e-05  2.44e-01     0s\n",
      "   3   4.39332658e+01  1.60554664e+01  0.00e+00 2.18e-05  4.37e-02     0s\n",
      "   4   3.88646132e+01  3.27916955e+01  0.00e+00 0.00e+00  9.50e-03     0s\n",
      "   5   3.72454765e+01  3.50792329e+01  0.00e+00 0.00e+00  3.39e-03     0s\n",
      "   6   3.66969029e+01  3.58486388e+01  0.00e+00 0.00e+00  1.33e-03     0s\n",
      "   7   3.65348741e+01  3.61000742e+01  0.00e+00 0.00e+00  6.80e-04     0s\n",
      "   8   3.64703173e+01  3.63654591e+01  0.00e+00 0.00e+00  1.64e-04     0s\n",
      "   9   3.64317585e+01  3.64135499e+01  0.00e+00 0.00e+00  2.85e-05     0s\n",
      "  10   3.64264868e+01  3.64202924e+01  0.00e+00 0.00e+00  9.69e-06     0s\n",
      "  11   3.64263317e+01  3.64258153e+01  0.00e+00 0.00e+00  8.08e-07     0s\n",
      "  12   3.64262506e+01  3.64262450e+01  0.00e+00 1.77e-11  8.81e-09     0s\n",
      "  13   3.64262474e+01  3.64262474e+01  0.00e+00 6.18e-12  3.48e-12     0s\n",
      "\n",
      "Barrier solved model in 13 iterations and 0.12 seconds\n",
      "Optimal objective 3.64262474e+01\n",
      "\n",
      "Crossover log...\n",
      "\n",
      "      26 DPushes remaining with DInf 0.0000000e+00                 0s\n",
      "       0 DPushes remaining with DInf 0.0000000e+00                 0s\n",
      "\n",
      "       0 PPushes remaining with PInf 0.0000000e+00                 0s\n",
      "\n",
      "  Push phase complete: Pinf 0.0000000e+00, Dinf 2.0322286e-15      0s\n",
      "\n",
      "Iteration    Objective       Primal Inf.    Dual Inf.      Time\n",
      "      28    3.6426247e+01   0.000000e+00   0.000000e+00      0s\n",
      "\n",
      "Solved with barrier\n",
      "Solved in 28 iterations and 0.14 seconds\n",
      "Optimal objective  3.642624740e+01\n"
     ]
    }
   ],
   "source": [
    "mod1.update()\n",
    "mod1.optimize()"
   ]
  },
  {
   "cell_type": "code",
   "execution_count": 36,
   "metadata": {},
   "outputs": [],
   "source": [
    "beta = [b[i].X for i in range(n)]\n",
    "y_pred = []\n",
    "for j in range(t):\n",
    "            y_pred.append(sum(X_test[j][i]*beta[i] for i in range(n-1)))"
   ]
  },
  {
   "cell_type": "code",
   "execution_count": 37,
   "metadata": {},
   "outputs": [],
   "source": [
    "from sklearn.metrics import mean_absolute_error"
   ]
  },
  {
   "cell_type": "code",
   "execution_count": 38,
   "metadata": {},
   "outputs": [
    {
     "name": "stdout",
     "output_type": "stream",
     "text": [
      "Prediction Error ($/night): 35.60453503037782\n"
     ]
    }
   ],
   "source": [
    "print('Prediction Error ($/night):', mean_absolute_error(y_true, y_pred))"
   ]
  },
  {
   "cell_type": "markdown",
   "metadata": {},
   "source": [
    "### Model 2"
   ]
  },
  {
   "cell_type": "code",
   "execution_count": 39,
   "metadata": {
    "scrolled": true
   },
   "outputs": [],
   "source": [
    "mod2 = Model()\n",
    "y = np.array(listing_data[:,12])\n",
    "x = np.array(listing_data[:,:12])\n",
    "\n",
    "## Adding Variables\n",
    "b = mod2.addVars(n)\n",
    "w = mod2.addVars(n, vtype = GRB.BINARY)\n",
    "Error = mod2.addVars(d)\n",
    "\n",
    "## Adding Constraints \n",
    "for i in range(d):\n",
    "    mod2.addConstr(Error[i] >= y[i] - sum(b[j]*w[j]*x[i][j] for j in range(n-1)))\n",
    "    mod2.addConstr(Error[i] >= -y[i] + sum(b[j]*w[j]*x[i][j] for j in range(n-1))) \n",
    "for j in range(n-1):\n",
    "    mod2.addConstr(b[j]>= w[j] )\n",
    "    \n",
    "mod2.addConstr(quicksum(w[j] for j in range(n-1)) <=3)\n",
    "   \n",
    "## Setting Objective Function    \n",
    "mod2.setObjective((1/d)*sum(Error[i] for i in range(d)), GRB.MINIMIZE)"
   ]
  },
  {
   "cell_type": "code",
   "execution_count": 40,
   "metadata": {
    "scrolled": true
   },
   "outputs": [
    {
     "name": "stdout",
     "output_type": "stream",
     "text": [
      "Gurobi Optimizer version 9.1.0 build v9.1.0rc0 (mac64)\n",
      "Thread count: 8 physical cores, 16 logical processors, using up to 16 threads\n",
      "Optimize a model with 13 rows, 1726 columns and 36 nonzeros\n",
      "Model fingerprint: 0xca1df099\n",
      "Model has 3400 quadratic constraints\n",
      "Variable types: 1713 continuous, 13 integer (13 binary)\n",
      "Coefficient statistics:\n",
      "  Matrix range     [1e+00, 1e+00]\n",
      "  QMatrix range    [5e-01, 5e+02]\n",
      "  QLMatrix range   [1e+00, 1e+00]\n",
      "  Objective range  [6e-04, 6e-04]\n",
      "  Bounds range     [1e+00, 1e+00]\n",
      "  RHS range        [3e+00, 3e+00]\n",
      "  QRHS range       [1e+01, 2e+03]\n",
      "Found heuristic solution: objective 2.000000e+09\n",
      "Presolve added 824 rows and 408 columns\n",
      "Presolve time: 0.15s\n",
      "Presolved: 3433 rows, 2170 columns, 32982 nonzeros\n",
      "Presolved model has 24 SOS constraint(s)\n",
      "Variable types: 2146 continuous, 24 integer (24 binary)\n",
      "\n",
      "Root relaxation: objective 3.642625e+01, 2581 iterations, 0.24 seconds\n",
      "\n",
      "    Nodes    |    Current Node    |     Objective Bounds      |     Work\n",
      " Expl Unexpl |  Obj  Depth IntInf | Incumbent    BestBd   Gap | It/Node Time\n",
      "\n",
      "     0     0   36.42625    0    9 2.0000e+09   36.42625   100%     -    0s\n",
      "H    0     0                     144.9682353   36.42625  74.9%     -    0s\n",
      "     0     0   36.42625    0    9  144.96824   36.42625  74.9%     -    0s\n",
      "     0     2   36.42625    0    9  144.96824   36.42625  74.9%     -    0s\n",
      "*    7    14               3      48.0928501   36.42625  24.3%   133    1s\n",
      "*   16    16               4      39.2200000   36.74359  6.31%   188    1s\n",
      "*   39     2               6      38.3388235   38.00767  0.86%   142    1s\n",
      "\n",
      "Explored 49 nodes (8513 simplex iterations) in 1.21 seconds\n",
      "Thread count was 16 (of 16 available processors)\n",
      "\n",
      "Solution count 5: 38.3388 39.22 48.0929 ... 2e+09\n",
      "\n",
      "Optimal solution found (tolerance 1.00e-04)\n",
      "Best objective 3.833882352941e+01, best bound 3.833882352941e+01, gap 0.0000%\n"
     ]
    }
   ],
   "source": [
    "mod2.update()\n",
    "mod2.optimize()"
   ]
  },
  {
   "cell_type": "code",
   "execution_count": 41,
   "metadata": {
    "scrolled": true
   },
   "outputs": [
    {
     "name": "stdout",
     "output_type": "stream",
     "text": [
      "a)\n",
      "     Entire home : 52.0\n",
      "     accommodates : 14.0\n",
      "     bedrooms : 32.0\n",
      "b)\n",
      "     New Prediction Error ($/night): 37.73676680972818\n"
     ]
    }
   ],
   "source": [
    "beta = [b[i].X for i in range(n)]\n",
    "y_pred = []\n",
    "for j in range(t):\n",
    "            y_pred.append(sum(X_test[j][i]*beta[i] for i in range(n-1)))\n",
    "        \n",
    "#######################PART A###########################################\n",
    "\n",
    "print('a)')    \n",
    "for i in [2,3,5]:\n",
    "    print('    ',features[i],':',b[i].X)\n",
    "    \n",
    "#######################PART B###########################################\n",
    "\n",
    "print('b)')  \n",
    "print('     New Prediction Error ($/night):', mean_absolute_error(y_true, y_pred))"
   ]
  },
  {
   "cell_type": "markdown",
   "metadata": {},
   "source": [
    "### Model 3"
   ]
  },
  {
   "cell_type": "code",
   "execution_count": 42,
   "metadata": {},
   "outputs": [],
   "source": [
    "mod3 = Model()\n",
    "y = np.array(listing_data[:,12])\n",
    "x = np.array(listing_data[:,:12])\n",
    "\n",
    "## Adding Variables\n",
    "b = mod3.addVars(n)\n",
    "w = mod3.addVars(n, vtype = GRB.BINARY)\n",
    "Error = mod3.addVars(d)\n",
    "\n",
    "## Adding Constraints \n",
    "for i in range(d):\n",
    "    mod3.addConstr(Error[i] >= y[i] - sum(b[j]*w[j]*x[i][j] for j in range(n-1)))\n",
    "    mod3.addConstr(Error[i] >= -y[i] + sum(b[j]*w[j]*x[i][j] for j in range(n-1))) \n",
    "for j in range(n-1):\n",
    "    mod3.addConstr(b[j]>= w[j])\n",
    "\n",
    "mod3.addConstr(quicksum(w[j] for j in range(n-1)) <=3)\n",
    "mod3.addConstr(w[6] == 1)\n",
    "   \n",
    "## Setting Objective Function    \n",
    "mod3.setObjective((1/d)*sum(Error[i] for i in range(d)), GRB.MINIMIZE)"
   ]
  },
  {
   "cell_type": "code",
   "execution_count": 43,
   "metadata": {},
   "outputs": [
    {
     "name": "stdout",
     "output_type": "stream",
     "text": [
      "Gurobi Optimizer version 9.1.0 build v9.1.0rc0 (mac64)\n",
      "Thread count: 8 physical cores, 16 logical processors, using up to 16 threads\n",
      "Optimize a model with 14 rows, 1726 columns and 37 nonzeros\n",
      "Model fingerprint: 0x9ec7ed6f\n",
      "Model has 3400 quadratic constraints\n",
      "Variable types: 1713 continuous, 13 integer (13 binary)\n",
      "Coefficient statistics:\n",
      "  Matrix range     [1e+00, 1e+00]\n",
      "  QMatrix range    [5e-01, 5e+02]\n",
      "  QLMatrix range   [1e+00, 1e+00]\n",
      "  Objective range  [6e-04, 6e-04]\n",
      "  Bounds range     [1e+00, 1e+00]\n",
      "  RHS range        [1e+00, 3e+00]\n",
      "  QRHS range       [1e+01, 2e+03]\n",
      "Presolve added 822 rows and 407 columns\n",
      "Presolve time: 0.15s\n",
      "Presolved: 3430 rows, 2166 columns, 32974 nonzeros\n",
      "Presolved model has 22 SOS constraint(s)\n",
      "Variable types: 2144 continuous, 22 integer (22 binary)\n",
      "Found heuristic solution: objective 60.5111765\n",
      "\n",
      "Root relaxation: objective 3.645095e+01, 2565 iterations, 0.40 seconds\n",
      "\n",
      "    Nodes    |    Current Node    |     Objective Bounds      |     Work\n",
      " Expl Unexpl |  Obj  Depth IntInf | Incumbent    BestBd   Gap | It/Node Time\n",
      "\n",
      "     0     0   36.45095    0    9   60.51118   36.45095  39.8%     -    0s\n",
      "     0     0   36.45095    0    9   60.51118   36.45095  39.8%     -    0s\n",
      "     0     2   36.45095    0    9   60.51118   36.45095  39.8%     -    1s\n",
      "*    3     6               2      48.6571755   36.45095  25.1%   216    1s\n",
      "*    8     8               3      41.7241765   36.77080  11.9%   214    1s\n",
      "*   16     8               4      40.0730147   38.14721  4.81%   217    1s\n",
      "\n",
      "Explored 26 nodes (6649 simplex iterations) in 1.33 seconds\n",
      "Thread count was 16 (of 16 available processors)\n",
      "\n",
      "Solution count 4: 40.073 41.7242 48.6572 60.5112 \n",
      "\n",
      "Optimal solution found (tolerance 1.00e-04)\n",
      "Best objective 4.007301470588e+01, best bound 4.007301470588e+01, gap 0.0000%\n"
     ]
    }
   ],
   "source": [
    "mod3.update()\n",
    "mod3.optimize()"
   ]
  },
  {
   "cell_type": "code",
   "execution_count": 45,
   "metadata": {},
   "outputs": [
    {
     "name": "stdout",
     "output_type": "stream",
     "text": [
      "a)\n",
      "     Entire home : 67.875\n",
      "     bedrooms : 47.37499999999999\n",
      "     beds : 12.125000000000002\n",
      "b)\n",
      "     Accomodates was dropped between Model 2 and 3. This variable had the lowest beta coefficient meaning that it has the least influence on price in Model 2, so when beds was fixed, the model chose to drop it in order to keep the remaining \"more significant\" coefficients.\n",
      "\n",
      "c)\n",
      "     New Prediction Error ($/night): 38.59960658082976\n",
      "     It is expected for the prediction error to increase due to the presence of additional constraints on the model.\n"
     ]
    }
   ],
   "source": [
    "#######################PART A##########################################\n",
    "\n",
    "print('a)')    \n",
    "for i in [2,5,6]:\n",
    "    print('    ',features[i],':',b[i].X)\n",
    "\n",
    "#######################PART B##########################################\n",
    "\n",
    "print('b)')\n",
    "print('     Accomodates was dropped between Model 2 and 3. This variable had the lowest beta coefficient meaning that it has the least influence on price in Model 2, so when beds was fixed, the model chose to drop it in order to keep the remaining \"more significant\" coefficients.') \n",
    "\n",
    "#######################PART C###########################################\n",
    "\n",
    "beta = [b[i].X for i in range(n)]\n",
    "y_pred = []\n",
    "for j in range(t):\n",
    "            y_pred.append(sum(X_test[j][i]*beta[i] for i in range(n-1)))\n",
    "print('\\nc)')\n",
    "print('     New Prediction Error ($/night):', mean_absolute_error(y_true, y_pred))\n",
    "print('     It is expected for the prediction error to increase due to the presence of additional constraints on the model.')"
   ]
  },
  {
   "cell_type": "code",
   "execution_count": null,
   "metadata": {},
   "outputs": [],
   "source": []
  }
 ],
 "metadata": {
  "kernelspec": {
   "display_name": "Python 3",
   "language": "python",
   "name": "python3"
  },
  "language_info": {
   "codemirror_mode": {
    "name": "ipython",
    "version": 3
   },
   "file_extension": ".py",
   "mimetype": "text/x-python",
   "name": "python",
   "nbconvert_exporter": "python",
   "pygments_lexer": "ipython3",
   "version": "3.8.5"
  }
 },
 "nbformat": 4,
 "nbformat_minor": 4
}
