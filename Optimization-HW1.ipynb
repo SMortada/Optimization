{
 "cells": [
  {
   "cell_type": "markdown",
   "metadata": {},
   "source": [
    "\\begin{align}\n",
    "\\underset{{\\bf x}}{\\text{min}} \\;\\; & \\sum_{i = 1}^n \\frac{underHours_i}{t_i} \\\\\n",
    "\\text{s.t.} \\;\\; & underHours_i \\ge (t_i - \\sum_{j=1,k=1}^n r_{jk} x_{ijk}) \\quad i = 1,\\ldots,n.\\\\\n",
    "& underHours_i \\ge 0 \\quad i = 1,\\ldots,n.\\\\\n",
    "& x_i \\in \\{0,1\\} \\quad i = 1,\\ldots,n.\n",
    "\\end{align}"
   ]
  },
  {
   "cell_type": "code",
   "execution_count": 91,
   "metadata": {},
   "outputs": [
    {
     "name": "stdout",
     "output_type": "stream",
     "text": [
      "Gurobi Optimizer version 9.1.0 build v9.1.0rc0 (mac64)\n",
      "Thread count: 8 physical cores, 16 logical processors, using up to 16 threads\n",
      "Optimize a model with 37 rows, 156 columns and 312 nonzeros\n",
      "Model fingerprint: 0xc161032b\n",
      "Variable types: 6 continuous, 150 integer (150 binary)\n",
      "Coefficient statistics:\n",
      "  Matrix range     [1e+00, 9e+00]\n",
      "  Objective range  [1e-02, 1e-01]\n",
      "  Bounds range     [1e+00, 1e+00]\n",
      "  RHS range        [1e+00, 1e+02]\n",
      "Found heuristic solution: objective 6.0000000\n",
      "Found heuristic solution: objective 6.0000000\n",
      "Presolve removed 6 rows and 0 columns\n",
      "Presolve time: 0.00s\n",
      "Presolved: 31 rows, 156 columns, 306 nonzeros\n",
      "Variable types: 4 continuous, 152 integer (150 binary)\n",
      "\n",
      "Root relaxation: objective 2.066116e-03, 63 iterations, 0.00 seconds\n",
      "\n",
      "    Nodes    |    Current Node    |     Objective Bounds      |     Work\n",
      " Expl Unexpl |  Obj  Depth IntInf | Incumbent    BestBd   Gap | It/Node Time\n",
      "\n",
      "     0     0    0.00207    0   10    6.00000    0.00207   100%     -    0s\n",
      "H    0     0                       0.5434075    0.00207   100%     -    0s\n",
      "H    0     0                       0.3764445    0.00207  99.5%     -    0s\n",
      "H    0     0                       0.2107409    0.00207  99.0%     -    0s\n",
      "H    0     0                       0.1514145    0.00207  98.6%     -    0s\n",
      "H    0     0                       0.1368984    0.00207  98.5%     -    0s\n",
      "     0     0    0.04950    0   11    0.13690    0.04950  63.8%     -    0s\n",
      "H    0     0                       0.1091286    0.04950  54.6%     -    0s\n",
      "H    0     0                       0.0519060    0.04950  4.63%     -    0s\n",
      "     0     0     cutoff    0         0.05191    0.05191  0.00%     -    0s\n",
      "\n",
      "Cutting planes:\n",
      "  Cover: 1\n",
      "  MIR: 4\n",
      "  RLT: 1\n",
      "\n",
      "Explored 1 nodes (180 simplex iterations) in 0.02 seconds\n",
      "Thread count was 16 (of 16 available processors)\n",
      "\n",
      "Solution count 9: 0.051906 0.109129 0.136898 ... 6\n",
      "\n",
      "Optimal solution found (tolerance 1.00e-04)\n",
      "Best objective 5.190597648317e-02, best bound 5.190597648317e-02, gap 0.0000%\n"
     ]
    }
   ],
   "source": [
    "#from gurobipy import *\n",
    "#import numpy as np\n",
    "\n",
    "target = [ 103.334,8.967,54.0155,15.799,11.3155,20.2825]\n",
    "\n",
    "room_schedule = np.array([[9,9,9,9,7.5],\n",
    "                          [9,9,9,9,7.5],\n",
    "                          [9,9,9,9,7.5],\n",
    "                          [9,9,9,9,7.5],\n",
    "                          [9,8,8,8,6.5]])\n",
    "\n",
    "\n",
    "# Define model and parameters.\n",
    "\n",
    "mod = Model()\n",
    "\n",
    "# Defining decision variable: \n",
    "\n",
    "x = mod.addVars(6,5,5, vtype = GRB.BINARY)\n",
    "under_hours = mod.addVars(6)\n",
    "\n",
    "## Adding Constraints\n",
    "\n",
    "for i in range(6):\n",
    "    \n",
    "    mod.addConstr(under_hours[i] >= (target[i] - sum(sum(room_schedule[j][k]*x[i,j,k] for j in range(5))for k in range(5))))\n",
    "    \n",
    "    mod.addConstr(under_hours[i]>=0)\n",
    "    \n",
    "\n",
    "for k in range(5):\n",
    "     for j in range(5):\n",
    "        mod.addConstr(sum(x[i,k,j] for i in range(6)) <= 1)\n",
    "\n",
    "\n",
    "mod.setObjective((sum(under_hours[i]/ target[i] for i in range(6))),GRB.MINIMIZE)\n",
    "\n",
    "mod.update()\n",
    "mod.optimize()"
   ]
  },
  {
   "cell_type": "code",
   "execution_count": 92,
   "metadata": {},
   "outputs": [
    {
     "name": "stdout",
     "output_type": "stream",
     "text": [
      "Optimal Value: 0.05190597648316861\n"
     ]
    }
   ],
   "source": [
    "opt_val = mod.objval\n",
    "print(\"Optimal Value:\",opt_val)"
   ]
  },
  {
   "cell_type": "markdown",
   "metadata": {},
   "source": [
    "\\begin{align}\n",
    "\\underset{{\\bf x}}{\\text{min}} \\;\\; & \\sum_{i = 1}^n \\frac{underHours_i}{t_i} \\\\\n",
    "\\text{s.t.} \\;\\; & underHours_i \\ge (t_i - \\sum_{j=1,k=1}^n r_{jk} x_{ijk}) \\quad i = 1,\\ldots,n.\\\\\n",
    "& underHours_i \\ge 0 \\quad i = 1,\\ldots,n.\\\\\n",
    "& x_i \\in \\{0,1\\} \\quad i = 1,\\ldots,n.\\\\ \\\\\n",
    "& v_{ikl} \\in \\{0,1\\} \\text{   if dept i has an OR on floor l on day k}, \\\\\n",
    "& 2v_{ik1} \\ge x_{ik1} + x_{ik2}, \\\\\n",
    "& 2v_{ik2} \\ge x_{ik3} + x_{ik4}, \\\\ \n",
    "& v_{ik3} \\ge x_{ik5}, n.\\\\\n",
    "& \\sum_{l=1}^3 v_{ikl} \\le 1 \\text{  for all i and k}\n",
    "\\end{align}"
   ]
  },
  {
   "cell_type": "code",
   "execution_count": 1,
   "metadata": {},
   "outputs": [
    {
     "ename": "NameError",
     "evalue": "name 'np' is not defined",
     "output_type": "error",
     "traceback": [
      "\u001b[0;31m---------------------------------------------------------------------------\u001b[0m",
      "\u001b[0;31mNameError\u001b[0m                                 Traceback (most recent call last)",
      "\u001b[0;32m<ipython-input-1-f73880b8c9bd>\u001b[0m in \u001b[0;36m<module>\u001b[0;34m\u001b[0m\n\u001b[1;32m      1\u001b[0m \u001b[0mtarget\u001b[0m \u001b[0;34m=\u001b[0m \u001b[0;34m[\u001b[0m \u001b[0;36m103.334\u001b[0m\u001b[0;34m,\u001b[0m\u001b[0;36m8.967\u001b[0m\u001b[0;34m,\u001b[0m\u001b[0;36m54.0155\u001b[0m\u001b[0;34m,\u001b[0m\u001b[0;36m15.799\u001b[0m\u001b[0;34m,\u001b[0m\u001b[0;36m11.3155\u001b[0m\u001b[0;34m,\u001b[0m\u001b[0;36m20.2825\u001b[0m\u001b[0;34m]\u001b[0m\u001b[0;34m\u001b[0m\u001b[0;34m\u001b[0m\u001b[0m\n\u001b[1;32m      2\u001b[0m \u001b[0;34m\u001b[0m\u001b[0m\n\u001b[0;32m----> 3\u001b[0;31m room_schedule = np.array([[9,9,9,9,7.5],\n\u001b[0m\u001b[1;32m      4\u001b[0m                           \u001b[0;34m[\u001b[0m\u001b[0;36m9\u001b[0m\u001b[0;34m,\u001b[0m\u001b[0;36m9\u001b[0m\u001b[0;34m,\u001b[0m\u001b[0;36m9\u001b[0m\u001b[0;34m,\u001b[0m\u001b[0;36m9\u001b[0m\u001b[0;34m,\u001b[0m\u001b[0;36m7.5\u001b[0m\u001b[0;34m]\u001b[0m\u001b[0;34m,\u001b[0m\u001b[0;34m\u001b[0m\u001b[0;34m\u001b[0m\u001b[0m\n\u001b[1;32m      5\u001b[0m                           \u001b[0;34m[\u001b[0m\u001b[0;36m9\u001b[0m\u001b[0;34m,\u001b[0m\u001b[0;36m9\u001b[0m\u001b[0;34m,\u001b[0m\u001b[0;36m9\u001b[0m\u001b[0;34m,\u001b[0m\u001b[0;36m9\u001b[0m\u001b[0;34m,\u001b[0m\u001b[0;36m7.5\u001b[0m\u001b[0;34m]\u001b[0m\u001b[0;34m,\u001b[0m\u001b[0;34m\u001b[0m\u001b[0;34m\u001b[0m\u001b[0m\n",
      "\u001b[0;31mNameError\u001b[0m: name 'np' is not defined"
     ]
    }
   ],
   "source": [
    "target = [ 103.334,8.967,54.0155,15.799,11.3155,20.2825]\n",
    "\n",
    "room_schedule = np.array([[9,9,9,9,7.5],\n",
    "                          [9,9,9,9,7.5],\n",
    "                          [9,9,9,9,7.5],\n",
    "                          [9,9,9,9,7.5],\n",
    "                          [9,8,8,8,6.5]])\n",
    "\n",
    "floorplan = [[1,2],[3,4],[5]]\n",
    "\n",
    "# Adding a Variable \n",
    "\n",
    "x = mod.addVars(6,5,5, vtype = GRB.BINARY)\n",
    "v = mod.addVars(6,5,3,vtype = GRB.BINARY)\n",
    "\n",
    "# Adding Constraints\n",
    "\n",
    "for i in range(6):\n",
    "    for k in range(5): \n",
    "        mod.addConstr(2 * v[i,k,0]>= x[i,0,k] + x[i,1,k] )\n",
    "        mod.addConstr(2 * v[i,k,1]>= x[i,2,k] + x[i,3,k] )\n",
    "        mod.addConstr( v[i,k,2] >= x[i,4,k] )\n",
    "\n",
    "for i in range(6): \n",
    "    for k in range(5):\n",
    "        mod.addConstr(sum(v[i,k,l] for l in range(3)) <= 1)\n",
    "                      \n",
    "## Old Constraints \n",
    "\n",
    "for i in range(6):\n",
    "    \n",
    "    mod.addConstr(under_hours[i] >= (target[i] - sum(sum(room_schedule[j][k]*x[i,j,k] for j in range(5))for k in range(5))))\n",
    "    \n",
    "    mod.addConstr(under_hours[i]>=0)\n",
    "    \n",
    "\n",
    "for k in range(5):\n",
    "     for j in range(5):\n",
    "        mod.addConstr(sum(x[i,k,j] for i in range(6)) <= 1)\n",
    "\n",
    "\n",
    "mod.setObjective((sum(under_hours[i]/ target[i] for i in range(6))),GRB.MINIMIZE)\n",
    "mod.update()\n",
    "mod.optimize()       "
   ]
  },
  {
   "cell_type": "code",
   "execution_count": 94,
   "metadata": {},
   "outputs": [
    {
     "name": "stdout",
     "output_type": "stream",
     "text": [
      "Optimal Value: 0.15806994793581977\n"
     ]
    }
   ],
   "source": [
    "opt_val = mod.objval\n",
    "print(\"Optimal Value:\",opt_val)"
   ]
  }
 ],
 "metadata": {
  "kernelspec": {
   "display_name": "Python 3",
   "language": "python",
   "name": "python3"
  },
  "language_info": {
   "codemirror_mode": {
    "name": "ipython",
    "version": 3
   },
   "file_extension": ".py",
   "mimetype": "text/x-python",
   "name": "python",
   "nbconvert_exporter": "python",
   "pygments_lexer": "ipython3",
   "version": "3.8.5"
  }
 },
 "nbformat": 4,
 "nbformat_minor": 4
}
